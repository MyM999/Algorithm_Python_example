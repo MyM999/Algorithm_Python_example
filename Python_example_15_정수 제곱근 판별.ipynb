{
 "cells": [
  {
   "cell_type": "markdown",
   "id": "0cbb054a",
   "metadata": {},
   "source": [
    "# 정수 제곱근 판별\n",
    "- 문제 설명\n",
    "    임의의 양의 정수 n에 대해, n이 어떤 양의 정수 x의 제곱인지 아닌지 판단하려 합니다.\n",
    "    n이 양의 정수 x의 제곱이라면 x+1의 제곱을 리턴하고, n이 양의 정수 x의 제곱이 아니라면 -1을 리턴하는 함수를 완성하세요.\n",
    "\n",
    "- 제한 사항\n",
    "        n은 1이상, 50000000000000 이하인 양의 정수입니다.\n",
    "\n",
    "    입출력 예\n",
    "        n\treturn\n",
    "        121\t144\n",
    "        3\t-1\n",
    "\n",
    "- 입출력 예#1\n",
    "    121은 양의 정수 11의 제곱이므로, (11+1)를 제곱한 144를 리턴합니다.\n",
    "\n",
    "- 입출력 예#2\n",
    "    3은 양의 정수의 제곱이 아니므로, -1을 리턴합니다."
   ]
  },
  {
   "cell_type": "code",
   "execution_count": null,
   "id": "d4002ebb",
   "metadata": {},
   "outputs": [],
   "source": []
  },
  {
   "cell_type": "code",
   "execution_count": null,
   "id": "393890ff",
   "metadata": {},
   "outputs": [],
   "source": []
  },
  {
   "cell_type": "code",
   "execution_count": 8,
   "id": "2887d0bf",
   "metadata": {},
   "outputs": [],
   "source": [
    "def solution(n):\n",
    "    answer = 0\n",
    "    num = n ** 0.5\n",
    "\n",
    "    if num == int(num):\n",
    "        answer = (num+1) ** 2\n",
    "    else:\n",
    "        answer = -1\n",
    "\n",
    "    return answer"
   ]
  },
  {
   "cell_type": "code",
   "execution_count": 2,
   "id": "cd5de16e",
   "metadata": {},
   "outputs": [
    {
     "name": "stdout",
     "output_type": "stream",
     "text": [
      "결과 : 144.0\n"
     ]
    }
   ],
   "source": [
    "print(\"결과 : {}\".format(solution(121)));"
   ]
  },
  {
   "cell_type": "code",
   "execution_count": 3,
   "id": "d53efa9b",
   "metadata": {},
   "outputs": [
    {
     "name": "stdout",
     "output_type": "stream",
     "text": [
      "결과 : -1\n"
     ]
    }
   ],
   "source": [
    "print(\"결과 : {}\".format(solution(3)));"
   ]
  },
  {
   "cell_type": "code",
   "execution_count": null,
   "id": "16f028e2",
   "metadata": {},
   "outputs": [],
   "source": []
  },
  {
   "cell_type": "code",
   "execution_count": 7,
   "id": "c311b72d",
   "metadata": {},
   "outputs": [],
   "source": [
    "# another answer"
   ]
  },
  {
   "cell_type": "code",
   "execution_count": null,
   "id": "a45a956e",
   "metadata": {},
   "outputs": [],
   "source": []
  }
 ],
 "metadata": {
  "kernelspec": {
   "display_name": "Python 3 (ipykernel)",
   "language": "python",
   "name": "python3"
  },
  "language_info": {
   "codemirror_mode": {
    "name": "ipython",
    "version": 3
   },
   "file_extension": ".py",
   "mimetype": "text/x-python",
   "name": "python",
   "nbconvert_exporter": "python",
   "pygments_lexer": "ipython3",
   "version": "3.9.7"
  }
 },
 "nbformat": 4,
 "nbformat_minor": 5
}
