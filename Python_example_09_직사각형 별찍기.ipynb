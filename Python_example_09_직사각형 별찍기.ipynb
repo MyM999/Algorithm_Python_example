{
 "cells": [
  {
   "cell_type": "code",
   "execution_count": 6,
   "id": "3c031ccf",
   "metadata": {},
   "outputs": [],
   "source": [
    "# 직사각형 별찍기\n",
    "# 문제 설명\n",
    "# 이 문제에는 표준 입력으로 두 개의 정수 n과 m이 주어집니다.\n",
    "# 별(*) 문자를 이용해 가로의 길이가 n, 세로의 길이가 m인 직사각형 형태를 출력해보세요.\n",
    "\n",
    "# 제한 조건\n",
    "# n과 m은 각각 1000 이하인 자연수입니다.\n",
    "# 예시\n",
    "# 입력\n",
    "\n",
    "# 5 3\n",
    "# 출력\n",
    "\n",
    "# *****\n",
    "# *****\n",
    "# *****"
   ]
  },
  {
   "cell_type": "code",
   "execution_count": null,
   "id": "c8e43280",
   "metadata": {},
   "outputs": [],
   "source": []
  },
  {
   "cell_type": "code",
   "execution_count": null,
   "id": "edae040e",
   "metadata": {},
   "outputs": [],
   "source": []
  },
  {
   "cell_type": "code",
   "execution_count": 7,
   "id": "65df6d86",
   "metadata": {},
   "outputs": [
    {
     "name": "stdout",
     "output_type": "stream",
     "text": [
      "5 3\n",
      "*****\n",
      "*****\n",
      "*****\n"
     ]
    }
   ],
   "source": [
    "a, b = map(int, input().strip().split(' '))\n",
    "for i in range(b):            \n",
    "    for j in range(a):        \n",
    "        print('*', end='') \n",
    "    print()"
   ]
  },
  {
   "cell_type": "code",
   "execution_count": null,
   "id": "2e49dca3",
   "metadata": {},
   "outputs": [],
   "source": []
  }
 ],
 "metadata": {
  "kernelspec": {
   "display_name": "Python 3 (ipykernel)",
   "language": "python",
   "name": "python3"
  },
  "language_info": {
   "codemirror_mode": {
    "name": "ipython",
    "version": 3
   },
   "file_extension": ".py",
   "mimetype": "text/x-python",
   "name": "python",
   "nbconvert_exporter": "python",
   "pygments_lexer": "ipython3",
   "version": "3.9.7"
  }
 },
 "nbformat": 4,
 "nbformat_minor": 5
}
