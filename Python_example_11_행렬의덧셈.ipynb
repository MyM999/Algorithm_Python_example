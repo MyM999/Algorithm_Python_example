{
 "cells": [
  {
   "cell_type": "markdown",
   "id": "c6a55e06",
   "metadata": {},
   "source": [
    "# 행렬의 덧셈\n",
    "\n",
    "문제 설명\n",
    "행렬의 덧셈은 행과 열의 크기가 같은 두 행렬의 같은 행, 같은 열의 값을 서로 더한 결과가 됩니다. 2개의 행렬 arr1과 arr2를 입력받아, 행렬 덧셈의 결과를 반환하는 함수, solution을 완성해주세요.\n",
    "\n",
    "- 제한 조건\n",
    "행렬 arr1, arr2의 행과 열의 길이는 500을 넘지 않습니다.\n",
    "\n",
    "- 입출력 예\n",
    "arr1\tarr2\treturn\n",
    "[[1,2],[2,3]]\t[[3,4],[5,6]]\t[[4,6],[7,9]]\n",
    "[[1],[2]]\t[[3],[4]]\t[[4],[6]]"
   ]
  },
  {
   "cell_type": "code",
   "execution_count": null,
   "id": "d5688be7",
   "metadata": {},
   "outputs": [],
   "source": []
  },
  {
   "cell_type": "code",
   "execution_count": null,
   "id": "ab90ee2f",
   "metadata": {},
   "outputs": [],
   "source": []
  },
  {
   "cell_type": "code",
   "execution_count": 1,
   "id": "5c666dd0",
   "metadata": {},
   "outputs": [],
   "source": [
    "def solution(A,B):\n",
    "    for i in range(len(A)) :\n",
    "        for j in range(len(A[0])):\n",
    "            A[i][j] += B[i][j] \n",
    "    return A"
   ]
  },
  {
   "cell_type": "code",
   "execution_count": 2,
   "id": "1915ffb7",
   "metadata": {},
   "outputs": [
    {
     "name": "stdout",
     "output_type": "stream",
     "text": [
      "[[4, 6], [7, 9]]\n"
     ]
    }
   ],
   "source": [
    "print(solution([[1,2], [2,3]], [[3,4],[5,6]]))"
   ]
  },
  {
   "cell_type": "code",
   "execution_count": null,
   "id": "ea01aebd",
   "metadata": {},
   "outputs": [],
   "source": []
  }
 ],
 "metadata": {
  "kernelspec": {
   "display_name": "Python 3 (ipykernel)",
   "language": "python",
   "name": "python3"
  },
  "language_info": {
   "codemirror_mode": {
    "name": "ipython",
    "version": 3
   },
   "file_extension": ".py",
   "mimetype": "text/x-python",
   "name": "python",
   "nbconvert_exporter": "python",
   "pygments_lexer": "ipython3",
   "version": "3.9.7"
  }
 },
 "nbformat": 4,
 "nbformat_minor": 5
}
