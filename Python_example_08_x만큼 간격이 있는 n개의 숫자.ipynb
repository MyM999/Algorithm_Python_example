{
 "cells": [
  {
   "cell_type": "code",
   "execution_count": 1,
   "id": "e41fb58e",
   "metadata": {},
   "outputs": [],
   "source": [
    "# x만큼 간격이 있는 n개의 숫자\n",
    "# 문제 설명\n",
    "# 함수 solution은 정수 x와 자연수 n을 입력 받아, x부터 시작해 x씩 증가하는 숫자를 n개 지니는 리스트를 리턴해야 합니다. 다음 제한 조건을 보고, 조건을 만족하는 함수, solution을 완성해주세요.\n",
    "\n",
    "# 제한 조건\n",
    "# x는 -10000000 이상, 10000000 이하인 정수입니다.\n",
    "# n은 1000 이하인 # 자연수입니다.\n",
    "# 입출력 예\n",
    "# x\tn\tanswer\n",
    "# 2\t5\t[2,4,6,8,10]\n",
    "# 4\t3\t[4,8,12]\n",
    "# -4\t2\t[-4, -8]"
   ]
  },
  {
   "cell_type": "code",
   "execution_count": null,
   "id": "56cd359c",
   "metadata": {},
   "outputs": [],
   "source": []
  },
  {
   "cell_type": "code",
   "execution_count": 2,
   "id": "04b1feea",
   "metadata": {},
   "outputs": [],
   "source": [
    "def solution(x, n):\n",
    "    answer = []\n",
    "    for i in range(1, n+1):\n",
    "        answer.append(x*i)\n",
    "    return answer"
   ]
  },
  {
   "cell_type": "code",
   "execution_count": null,
   "id": "1c997220",
   "metadata": {},
   "outputs": [],
   "source": []
  },
  {
   "cell_type": "code",
   "execution_count": 4,
   "id": "3382819a",
   "metadata": {},
   "outputs": [
    {
     "name": "stdout",
     "output_type": "stream",
     "text": [
      "[2, 4, 6, 8, 10]\n"
     ]
    }
   ],
   "source": [
    "print(solution(2, 5))"
   ]
  },
  {
   "cell_type": "code",
   "execution_count": 5,
   "id": "d3df1e4c",
   "metadata": {},
   "outputs": [
    {
     "name": "stdout",
     "output_type": "stream",
     "text": [
      "[4, 8, 12]\n"
     ]
    }
   ],
   "source": [
    "print(solution(4, 3))"
   ]
  },
  {
   "cell_type": "code",
   "execution_count": 7,
   "id": "c54f90ad",
   "metadata": {},
   "outputs": [
    {
     "name": "stdout",
     "output_type": "stream",
     "text": [
      "[-4, -8]\n"
     ]
    }
   ],
   "source": [
    "print(solution(-4, 2))"
   ]
  },
  {
   "cell_type": "code",
   "execution_count": null,
   "id": "0dd09431",
   "metadata": {},
   "outputs": [],
   "source": []
  },
  {
   "cell_type": "code",
   "execution_count": 8,
   "id": "e8c1289a",
   "metadata": {},
   "outputs": [],
   "source": [
    "# another answer"
   ]
  },
  {
   "cell_type": "code",
   "execution_count": 9,
   "id": "38230274",
   "metadata": {},
   "outputs": [],
   "source": [
    "def solution2(x, n):\n",
    "    return [i * x + x for i in range(n)]"
   ]
  },
  {
   "cell_type": "code",
   "execution_count": 11,
   "id": "f31f6412",
   "metadata": {},
   "outputs": [
    {
     "name": "stdout",
     "output_type": "stream",
     "text": [
      "[-4, -8]\n"
     ]
    }
   ],
   "source": [
    "print(solution2(-4, 2))"
   ]
  },
  {
   "cell_type": "code",
   "execution_count": 12,
   "id": "117e2911",
   "metadata": {},
   "outputs": [
    {
     "name": "stdout",
     "output_type": "stream",
     "text": [
      "[2, 4, 6, 8, 10]\n"
     ]
    }
   ],
   "source": [
    "print(solution(2, 5))"
   ]
  },
  {
   "cell_type": "code",
   "execution_count": null,
   "id": "270a511c",
   "metadata": {},
   "outputs": [],
   "source": []
  }
 ],
 "metadata": {
  "kernelspec": {
   "display_name": "Python 3 (ipykernel)",
   "language": "python",
   "name": "python3"
  },
  "language_info": {
   "codemirror_mode": {
    "name": "ipython",
    "version": 3
   },
   "file_extension": ".py",
   "mimetype": "text/x-python",
   "name": "python",
   "nbconvert_exporter": "python",
   "pygments_lexer": "ipython3",
   "version": "3.9.7"
  }
 },
 "nbformat": 4,
 "nbformat_minor": 5
}
