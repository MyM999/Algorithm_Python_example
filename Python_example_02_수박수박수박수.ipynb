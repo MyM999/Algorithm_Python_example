{
 "cells": [
  {
   "cell_type": "code",
   "execution_count": 1,
   "id": "2c31ff4a",
   "metadata": {},
   "outputs": [],
   "source": [
    "# 문제 설명\n",
    "# 길이가 n이고, \"수박수박수박수....\"와 같은 패턴을 유지하는 문자열을 리턴하는 함수, solution을 완성하세요. 예를들어 n이 4이면 \"수박수박\"을 리턴하고 3이라면 \"수박수\"를 리턴하면 됩니다.\n",
    "\n",
    "# 제한 조건\n",
    "# n은 길이 10,000이하인 자연수입니다.\n",
    "\n",
    "# 입출력 예\n",
    "# n\treturn\n",
    "# 3\t\"수박수\"\n",
    "# 4\t\"수박수박\"# "
   ]
  },
  {
   "cell_type": "code",
   "execution_count": 2,
   "id": "55311a16",
   "metadata": {},
   "outputs": [],
   "source": [
    "def solution(n):\n",
    "    answer = ''\n",
    "    \n",
    "    for idx in range(n): #n만큼의 길이를 반복\n",
    "        if idx % 2 == 0: # answer에 넣을 글자가 홀수번째라면\n",
    "            answer += '수' \n",
    "        else:            # answer에 넣을 글자가 짝수번째라면\n",
    "            answer += '박'\n",
    "    return answer"
   ]
  },
  {
   "cell_type": "code",
   "execution_count": 5,
   "id": "cad66fb0",
   "metadata": {},
   "outputs": [
    {
     "name": "stdout",
     "output_type": "stream",
     "text": [
      "n이 3인 경우: 수박수\n",
      "n이 4인 경우: 수박수박\n"
     ]
    }
   ],
   "source": [
    "print(\"n이 3인 경우: \" + solution(3));\n",
    "print(\"n이 4인 경우: \" + solution(4));"
   ]
  },
  {
   "cell_type": "code",
   "execution_count": null,
   "id": "ce305941",
   "metadata": {},
   "outputs": [],
   "source": []
  },
  {
   "cell_type": "code",
   "execution_count": 6,
   "id": "2a33eb7b",
   "metadata": {},
   "outputs": [],
   "source": [
    "# another answer"
   ]
  },
  {
   "cell_type": "code",
   "execution_count": 7,
   "id": "5df3aa25",
   "metadata": {},
   "outputs": [],
   "source": [
    "def solution2(n):\n",
    "    s = \"수박\" * n\n",
    "    return s[:n] #[:n] 리스트 처음부터 n-1 인덱스까지 출력"
   ]
  },
  {
   "cell_type": "code",
   "execution_count": 8,
   "id": "fa985a2b",
   "metadata": {},
   "outputs": [
    {
     "name": "stdout",
     "output_type": "stream",
     "text": [
      "n이 3인 경우: 수박수\n",
      "n이 4인 경우: 수박수박\n"
     ]
    }
   ],
   "source": [
    "print(\"n이 3인 경우: \" + solution2(3));\n",
    "print(\"n이 4인 경우: \" + solution2(4));"
   ]
  },
  {
   "cell_type": "code",
   "execution_count": null,
   "id": "c6c7c5c8",
   "metadata": {},
   "outputs": [],
   "source": []
  }
 ],
 "metadata": {
  "kernelspec": {
   "display_name": "Python 3 (ipykernel)",
   "language": "python",
   "name": "python3"
  },
  "language_info": {
   "codemirror_mode": {
    "name": "ipython",
    "version": 3
   },
   "file_extension": ".py",
   "mimetype": "text/x-python",
   "name": "python",
   "nbconvert_exporter": "python",
   "pygments_lexer": "ipython3",
   "version": "3.9.7"
  }
 },
 "nbformat": 4,
 "nbformat_minor": 5
}
