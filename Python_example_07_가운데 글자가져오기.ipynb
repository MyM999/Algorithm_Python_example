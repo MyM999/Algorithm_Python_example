{
 "cells": [
  {
   "cell_type": "code",
   "execution_count": 1,
   "id": "60b20b1c",
   "metadata": {},
   "outputs": [],
   "source": [
    "#  문제 설명\n",
    "#  단어 s의 가운데 글자를 반환하는 함수, solution을 만들어 보세요. 단어의 길이가 짝수라면 가운데 두글자를 반환하면 됩니다.\n",
    "\n",
    "#  재한사항\n",
    "#  s는 길이가 1 이상, 100이하인 스트링입니다.\n",
    "#  입출력 예\n",
    "#  s\treturn\n",
    "#  \"abcde\"\t\"c\"\n",
    "#  \"qwer\"\t\"we\""
   ]
  },
  {
   "cell_type": "code",
   "execution_count": null,
   "id": "7f94b5ce",
   "metadata": {},
   "outputs": [],
   "source": []
  },
  {
   "cell_type": "code",
   "execution_count": null,
   "id": "340ce3c8",
   "metadata": {},
   "outputs": [],
   "source": []
  },
  {
   "cell_type": "code",
   "execution_count": 2,
   "id": "64ef3d95",
   "metadata": {},
   "outputs": [],
   "source": [
    "def solution(s):\n",
    "    if len(s) % 2 == 1:\n",
    "        return s[len(s)//2]\n",
    "    else:\n",
    "        return s[(len(s)//2-1) : (len(s)//2+1)]"
   ]
  },
  {
   "cell_type": "code",
   "execution_count": 3,
   "id": "985eaf7c",
   "metadata": {},
   "outputs": [
    {
     "name": "stdout",
     "output_type": "stream",
     "text": [
      "w\n"
     ]
    }
   ],
   "source": [
    "print(solution(\"power\"))"
   ]
  },
  {
   "cell_type": "code",
   "execution_count": null,
   "id": "7a4c9f0e",
   "metadata": {},
   "outputs": [],
   "source": []
  }
 ],
 "metadata": {
  "kernelspec": {
   "display_name": "Python 3 (ipykernel)",
   "language": "python",
   "name": "python3"
  },
  "language_info": {
   "codemirror_mode": {
    "name": "ipython",
    "version": 3
   },
   "file_extension": ".py",
   "mimetype": "text/x-python",
   "name": "python",
   "nbconvert_exporter": "python",
   "pygments_lexer": "ipython3",
   "version": "3.9.7"
  }
 },
 "nbformat": 4,
 "nbformat_minor": 5
}
