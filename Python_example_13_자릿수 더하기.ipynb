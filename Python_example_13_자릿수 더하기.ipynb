{
 "cells": [
  {
   "cell_type": "markdown",
   "id": "8e8d1576",
   "metadata": {},
   "source": [
    "- 문제 설명\n",
    "    자연수 N이 주어지면, N의 각 자릿수의 합을 구해서 return 하는 solution 함수를 만들어 주세요.\n",
    "    예를들어 N = 123이면 1 + 2 + 3 = 6을 return 하면 됩니다.\n",
    "\n",
    "- 제한사항\n",
    "N의 범위 : 100,000,000 이하의 자연수\n",
    "\n",
    "- 입출력 예\n",
    "N\tanswer\n",
    "123\t6\n",
    "987\t24\n",
    "\n",
    "\n",
    "- 입출력 예 #1\n",
    "문제의 예시와 같습니다.\n",
    "\n",
    "- 입출력 예 #2\n",
    "9 + 8 + 7 = 24이므로 24를 return 하면 됩니다."
   ]
  },
  {
   "cell_type": "code",
   "execution_count": null,
   "id": "3419b273",
   "metadata": {},
   "outputs": [],
   "source": []
  },
  {
   "cell_type": "code",
   "execution_count": null,
   "id": "1de6e86c",
   "metadata": {},
   "outputs": [],
   "source": []
  },
  {
   "cell_type": "code",
   "execution_count": 1,
   "id": "b114dec8",
   "metadata": {},
   "outputs": [],
   "source": [
    "def solution(n):\n",
    "    new = str(n)\n",
    "    add = 0\n",
    "    for i in range(len(new)):\n",
    "        add += int(new[i])\n",
    "    return add"
   ]
  },
  {
   "cell_type": "code",
   "execution_count": 8,
   "id": "dc47151a",
   "metadata": {},
   "outputs": [
    {
     "name": "stdout",
     "output_type": "stream",
     "text": [
      "결과 : 6\n"
     ]
    }
   ],
   "source": [
    "print(\"결과 : {}\".format(solution(123)));"
   ]
  },
  {
   "cell_type": "code",
   "execution_count": 12,
   "id": "8a0c0b2f",
   "metadata": {},
   "outputs": [
    {
     "name": "stdout",
     "output_type": "stream",
     "text": [
      "결과 : 24\n"
     ]
    }
   ],
   "source": [
    "print(\"결과 : {}\".format(solution(987)));"
   ]
  },
  {
   "cell_type": "code",
   "execution_count": null,
   "id": "1f454965",
   "metadata": {},
   "outputs": [],
   "source": []
  },
  {
   "cell_type": "code",
   "execution_count": 9,
   "id": "fabc3232",
   "metadata": {},
   "outputs": [],
   "source": [
    "# another answer"
   ]
  },
  {
   "cell_type": "code",
   "execution_count": 13,
   "id": "1f081a6a",
   "metadata": {},
   "outputs": [],
   "source": [
    "def sum_digit(number):\n",
    "    return sum([int(i) for i in str(number)])"
   ]
  },
  {
   "cell_type": "code",
   "execution_count": 14,
   "id": "51168f3b",
   "metadata": {},
   "outputs": [
    {
     "name": "stdout",
     "output_type": "stream",
     "text": [
      "결과 : 6\n"
     ]
    }
   ],
   "source": [
    "print(\"결과 : {}\".format(sum_digit(123)));"
   ]
  },
  {
   "cell_type": "code",
   "execution_count": 15,
   "id": "e21599b5",
   "metadata": {},
   "outputs": [
    {
     "name": "stdout",
     "output_type": "stream",
     "text": [
      "결과 : 24\n"
     ]
    }
   ],
   "source": [
    "print(\"결과 : {}\".format(sum_digit(987)));"
   ]
  },
  {
   "cell_type": "code",
   "execution_count": null,
   "id": "1c06e41e",
   "metadata": {},
   "outputs": [],
   "source": []
  }
 ],
 "metadata": {
  "kernelspec": {
   "display_name": "Python 3 (ipykernel)",
   "language": "python",
   "name": "python3"
  },
  "language_info": {
   "codemirror_mode": {
    "name": "ipython",
    "version": 3
   },
   "file_extension": ".py",
   "mimetype": "text/x-python",
   "name": "python",
   "nbconvert_exporter": "python",
   "pygments_lexer": "ipython3",
   "version": "3.9.7"
  }
 },
 "nbformat": 4,
 "nbformat_minor": 5
}
