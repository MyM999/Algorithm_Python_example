{
 "cells": [
  {
   "cell_type": "code",
   "execution_count": null,
   "id": "785e9e9e",
   "metadata": {},
   "outputs": [],
   "source": [
    "# 문제 설명\n",
    "# 정수 n을 입력받아 n의 약수를 모두 더한 값을 리턴하는 함수, solution을 완성해주세요.\n",
    "\n",
    "# 제한 사항\n",
    "# n은 0 이상 3000이하인 정수입니다.\n",
    "# 입출력 예\n",
    "\n",
    "# n\treturn\n",
    "# 12\t28\n",
    "# 5\t6\n",
    "\n",
    "# 입출력 예 설명\n",
    "# 입출력 예 #1\n",
    "# 12의 약수는 1, 2, 3, 4, 6, 12입니다. 이를 모두 더하면 28입니다.\n",
    "\n",
    "# 입출력 예 #2\n",
    "# 5의 약수는 1, 5입니다. 이를 모두 더하면 6입니다."
   ]
  },
  {
   "cell_type": "code",
   "execution_count": null,
   "id": "23f08a24",
   "metadata": {},
   "outputs": [],
   "source": []
  },
  {
   "cell_type": "code",
   "execution_count": null,
   "id": "6c316d7e",
   "metadata": {},
   "outputs": [],
   "source": []
  },
  {
   "cell_type": "code",
   "execution_count": 16,
   "id": "80dabdf9",
   "metadata": {},
   "outputs": [
    {
     "name": "stdout",
     "output_type": "stream",
     "text": [
      "input number: 5\n",
      "0의 약수의합은 0입니다.\n",
      "1의 약수의합은 1입니다.\n",
      "2의 약수의합은 3입니다.\n",
      "3의 약수의합은 4입니다.\n",
      "4의 약수의합은 7입니다.\n",
      "5의 약수의합은 6입니다.\n"
     ]
    }
   ],
   "source": [
    "def solution(num): \n",
    "    a = 0 \n",
    "    for i in range(1, num+1): \n",
    "        if num%i==0: \n",
    "             a += i \n",
    "    \n",
    "    return a\n",
    "\n",
    "\n",
    "n = int(input(\"input number: \"))\n",
    "\n",
    "for i in range(n+1):\n",
    "    solution2 = solution(i)\n",
    "    print(f\"{i}의 약수의합은 {solution2}입니다.\")"
   ]
  },
  {
   "cell_type": "code",
   "execution_count": null,
   "id": "ce374a5a",
   "metadata": {},
   "outputs": [],
   "source": []
  },
  {
   "cell_type": "code",
   "execution_count": null,
   "id": "a9368191",
   "metadata": {},
   "outputs": [],
   "source": []
  },
  {
   "cell_type": "code",
   "execution_count": 17,
   "id": "2f93bd24",
   "metadata": {},
   "outputs": [],
   "source": [
    "# another answer"
   ]
  },
  {
   "cell_type": "code",
   "execution_count": 18,
   "id": "a4a1ed0a",
   "metadata": {},
   "outputs": [],
   "source": [
    "def sumDivisor(num):\n",
    "    return sum([i for i in range(1,num+1) if num%i==0])"
   ]
  },
  {
   "cell_type": "code",
   "execution_count": 19,
   "id": "62256ca4",
   "metadata": {},
   "outputs": [
    {
     "name": "stdout",
     "output_type": "stream",
     "text": [
      "28\n"
     ]
    }
   ],
   "source": [
    "print(sumDivisor(12))"
   ]
  },
  {
   "cell_type": "code",
   "execution_count": 20,
   "id": "d028dc07",
   "metadata": {},
   "outputs": [
    {
     "name": "stdout",
     "output_type": "stream",
     "text": [
      "6\n"
     ]
    }
   ],
   "source": [
    "print(sumDivisor(5))"
   ]
  },
  {
   "cell_type": "code",
   "execution_count": null,
   "id": "088ce72b",
   "metadata": {},
   "outputs": [],
   "source": []
  }
 ],
 "metadata": {
  "kernelspec": {
   "display_name": "Python 3 (ipykernel)",
   "language": "python",
   "name": "python3"
  },
  "language_info": {
   "codemirror_mode": {
    "name": "ipython",
    "version": 3
   },
   "file_extension": ".py",
   "mimetype": "text/x-python",
   "name": "python",
   "nbconvert_exporter": "python",
   "pygments_lexer": "ipython3",
   "version": "3.9.7"
  }
 },
 "nbformat": 4,
 "nbformat_minor": 5
}
