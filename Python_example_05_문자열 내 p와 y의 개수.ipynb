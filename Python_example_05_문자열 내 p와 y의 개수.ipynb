{
 "cells": [
  {
   "cell_type": "code",
   "execution_count": 1,
   "id": "026ffb35",
   "metadata": {},
   "outputs": [],
   "source": [
    "# 문제 설명\n",
    "# 대문자와 소문자가 섞여있는 문자열 s가 주어집니다. s에 'p'의 개수와 'y'의 개수를 비교해 같으면 True, \n",
    "# 다르면 False를 return 하는 solution를 완성하세요. 'p', 'y' 모두 하나도 없는 경우는 항상 True를 리턴합니다.\n",
    "# 단, 개수를 비교할 때 대문자와 소문자는 구별하지 않습니다.\n",
    "# 예를 들어 s가 \"pPoooyY\"면 true를 return하고 \"Pyy\"라면 false를 return합니다.\n",
    "\n",
    "# 제한사항\n",
    "# 문자열 s의 길이 : 50 이하의 자연수\n",
    "# 문자열 s는 알파벳으로만 이루어져 있습니다.\n",
    "\n",
    "# 입출력 예\n",
    "# s\tanswer\n",
    "# \"pPoooyY\"\ttrue\n",
    "# \"Pyy\"\tfalse\n",
    "\n",
    "# 입출력 예 설명\n",
    "\n",
    "# 입출력 예 #1\n",
    "# 'p'의 개수 2개, 'y'의 개수 2개로 같으므로 true를 return 합니다.\n",
    "\n",
    "# 입출력 예 #2\n",
    "# 'p'의 개수 1개, 'y'의 개수 2개로 다르므로 false를 return 합니다."
   ]
  },
  {
   "cell_type": "code",
   "execution_count": null,
   "id": "6f30af10",
   "metadata": {},
   "outputs": [],
   "source": []
  },
  {
   "cell_type": "code",
   "execution_count": null,
   "id": "d2135440",
   "metadata": {},
   "outputs": [],
   "source": []
  },
  {
   "cell_type": "code",
   "execution_count": 4,
   "id": "688964bd",
   "metadata": {},
   "outputs": [],
   "source": [
    "def solution(s):\n",
    "    p = 0\n",
    "    y = 0\n",
    "    for i in range(len(s)):\n",
    "        if s[i] == 'y' or s[i] == 'Y':\n",
    "            y += 1\n",
    "        if s[i] == 'p' or s[i] == 'P':\n",
    "            p += 1\n",
    "    if p == y :\n",
    "        return True\n",
    "    else :\n",
    "        return False"
   ]
  },
  {
   "cell_type": "code",
   "execution_count": 7,
   "id": "0cf084e0",
   "metadata": {},
   "outputs": [
    {
     "name": "stdout",
     "output_type": "stream",
     "text": [
      "True\n",
      "False\n"
     ]
    }
   ],
   "source": [
    "print( solution(\"pPoooyY\") )\n",
    "print( solution(\"Pyy\") )"
   ]
  },
  {
   "cell_type": "code",
   "execution_count": null,
   "id": "29ace4f0",
   "metadata": {},
   "outputs": [],
   "source": []
  },
  {
   "cell_type": "code",
   "execution_count": null,
   "id": "417d531c",
   "metadata": {},
   "outputs": [],
   "source": []
  },
  {
   "cell_type": "code",
   "execution_count": 9,
   "id": "38283f6c",
   "metadata": {},
   "outputs": [],
   "source": [
    "# another answer"
   ]
  },
  {
   "cell_type": "code",
   "execution_count": 10,
   "id": "92be382b",
   "metadata": {},
   "outputs": [],
   "source": [
    "def numPY(s):\n",
    "    # 함수를 완성하세요\n",
    "    return s.lower().count('p') == s.lower().count('y')"
   ]
  },
  {
   "cell_type": "code",
   "execution_count": 11,
   "id": "0fd02d5e",
   "metadata": {},
   "outputs": [
    {
     "name": "stdout",
     "output_type": "stream",
     "text": [
      "True\n",
      "False\n"
     ]
    }
   ],
   "source": [
    "print( numPY(\"pPoooyY\") )\n",
    "print( numPY(\"Pyy\") )"
   ]
  },
  {
   "cell_type": "code",
   "execution_count": null,
   "id": "6f9ccb68",
   "metadata": {},
   "outputs": [],
   "source": []
  }
 ],
 "metadata": {
  "kernelspec": {
   "display_name": "Python 3 (ipykernel)",
   "language": "python",
   "name": "python3"
  },
  "language_info": {
   "codemirror_mode": {
    "name": "ipython",
    "version": 3
   },
   "file_extension": ".py",
   "mimetype": "text/x-python",
   "name": "python",
   "nbconvert_exporter": "python",
   "pygments_lexer": "ipython3",
   "version": "3.9.7"
  }
 },
 "nbformat": 4,
 "nbformat_minor": 5
}
