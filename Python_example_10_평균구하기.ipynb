{
 "cells": [
  {
   "cell_type": "markdown",
   "id": "84ed0c97",
   "metadata": {},
   "source": [
    "- 문제 설명\n",
    "정수를 담고 있는 배열 arr의 평균값을 return하는 함수, solution을 완성해보세요.\n",
    "\n",
    "- 제한사항\n",
    "arr은 길이 1 이상, 100 이하인 배열입니다.\n",
    "arr의 원소는 -10,000 이상 10,000 이하인 정수입니다.\n",
    "\n",
    "- 입출력 예\n",
    "arr\treturn\n",
    "[1,2,3,4]\t2.5\n",
    "[5,5]\t5"
   ]
  },
  {
   "cell_type": "code",
   "execution_count": null,
   "id": "301ff1fa",
   "metadata": {},
   "outputs": [],
   "source": []
  },
  {
   "cell_type": "code",
   "execution_count": null,
   "id": "02819102",
   "metadata": {},
   "outputs": [],
   "source": []
  },
  {
   "cell_type": "code",
   "execution_count": null,
   "id": "65159ac0",
   "metadata": {},
   "outputs": [],
   "source": []
  },
  {
   "cell_type": "code",
   "execution_count": null,
   "id": "1ead4852",
   "metadata": {},
   "outputs": [],
   "source": [
    "def solution(arr) :\n",
    "    answer = 0\n",
    "    \n",
    "    for i in range(0, len(arr)) :\n",
    "        answer += arr[i]\n",
    "    \n",
    "    answer /= len(arr)\n",
    "    \n",
    "    return answer"
   ]
  }
 ],
 "metadata": {
  "kernelspec": {
   "display_name": "Python 3 (ipykernel)",
   "language": "python",
   "name": "python3"
  },
  "language_info": {
   "codemirror_mode": {
    "name": "ipython",
    "version": 3
   },
   "file_extension": ".py",
   "mimetype": "text/x-python",
   "name": "python",
   "nbconvert_exporter": "python",
   "pygments_lexer": "ipython3",
   "version": "3.9.7"
  }
 },
 "nbformat": 4,
 "nbformat_minor": 5
}
