{
 "cells": [
  {
   "cell_type": "code",
   "execution_count": 1,
   "id": "c49c534c",
   "metadata": {},
   "outputs": [],
   "source": [
    "# 문제 설명\n",
    "# 두 정수 a, b가 주어졌을 때 a와 b 사이에 속한 모든 정수의 합을 리턴하는 함수, solution을 완성하세요.\n",
    "# 예를 들어 a = 3, b = 5인 경우, 3 + 4 + 5 = 12이므로 12를 리턴합니다.\n",
    "\n",
    "# 제한 조건\n",
    "# a와 b가 같은 경우는 둘 중 아무 수나 리턴하세요.\n",
    "# a와 b는 -10,000,000 이상 10,000,000 이하인 정수입니다.\n",
    "# a와 b의 대소관계는 정해져있지 않습니다.\n",
    "\n",
    "# 입출력 예\n",
    "# a\tb\treturn\n",
    "# 3\t5\t12\n",
    "# 3\t3\t3\n",
    "# 5\t3\t12"
   ]
  },
  {
   "cell_type": "code",
   "execution_count": 2,
   "id": "cc29e2a0",
   "metadata": {},
   "outputs": [],
   "source": [
    "def solution(a,b):\n",
    "    if a > b:                 \n",
    "        a, b = b, a\n",
    "    return sum(range(a,b+1)) # sum 반복가능한 모든 요소를 합산한 값을 반환하라\n",
    "                              # sum(range(1, n+1) 1~n까지의 합"
   ]
  },
  {
   "cell_type": "code",
   "execution_count": 4,
   "id": "9cbdc21d",
   "metadata": {},
   "outputs": [
    {
     "name": "stdout",
     "output_type": "stream",
     "text": [
      "12\n"
     ]
    }
   ],
   "source": [
    "print(solution(3,5))"
   ]
  },
  {
   "cell_type": "code",
   "execution_count": 5,
   "id": "b0c48c46",
   "metadata": {},
   "outputs": [
    {
     "name": "stdout",
     "output_type": "stream",
     "text": [
      "3\n"
     ]
    }
   ],
   "source": [
    "print(solution(3,3))"
   ]
  },
  {
   "cell_type": "code",
   "execution_count": 6,
   "id": "86a5277f",
   "metadata": {},
   "outputs": [
    {
     "name": "stdout",
     "output_type": "stream",
     "text": [
      "12\n"
     ]
    }
   ],
   "source": [
    "print(solution(12,12))"
   ]
  },
  {
   "cell_type": "code",
   "execution_count": null,
   "id": "1b62350e",
   "metadata": {},
   "outputs": [],
   "source": []
  },
  {
   "cell_type": "code",
   "execution_count": 8,
   "id": "42fc8b70",
   "metadata": {},
   "outputs": [],
   "source": [
    "# another solution"
   ]
  },
  {
   "cell_type": "code",
   "execution_count": 13,
   "id": "6500cd4e",
   "metadata": {},
   "outputs": [],
   "source": [
    "def solution2(a, b):\n",
    "    return sum(range(min(a,b),max(a,b)+1)) #min최소값 max최대값"
   ]
  },
  {
   "cell_type": "code",
   "execution_count": 14,
   "id": "61fdbb8a",
   "metadata": {},
   "outputs": [
    {
     "name": "stdout",
     "output_type": "stream",
     "text": [
      "12\n",
      "3\n",
      "12\n"
     ]
    }
   ],
   "source": [
    "print(solution2(3,5))\n",
    "print(solution2(3,3))\n",
    "print(solution2(5,3))"
   ]
  },
  {
   "cell_type": "code",
   "execution_count": null,
   "id": "27820a02",
   "metadata": {},
   "outputs": [],
   "source": []
  },
  {
   "cell_type": "code",
   "execution_count": null,
   "id": "244b861c",
   "metadata": {},
   "outputs": [],
   "source": []
  }
 ],
 "metadata": {
  "kernelspec": {
   "display_name": "Python 3 (ipykernel)",
   "language": "python",
   "name": "python3"
  },
  "language_info": {
   "codemirror_mode": {
    "name": "ipython",
    "version": 3
   },
   "file_extension": ".py",
   "mimetype": "text/x-python",
   "name": "python",
   "nbconvert_exporter": "python",
   "pygments_lexer": "ipython3",
   "version": "3.9.7"
  }
 },
 "nbformat": 4,
 "nbformat_minor": 5
}
