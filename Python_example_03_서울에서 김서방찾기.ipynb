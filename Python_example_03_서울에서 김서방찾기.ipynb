{
 "cells": [
  {
   "cell_type": "code",
   "execution_count": null,
   "id": "136a4a58",
   "metadata": {},
   "outputs": [],
   "source": [
    "# 문제 설명\n",
    "# String형 배열 seoul의 element중 \"Kim\"의 위치 x를 찾아, \"김서방은 x에 있다\"는 String을 반환하는 함수,\n",
    "# solution을 완성하세요. seoul에 \"Kim\"은 오직 한 번만 나타나며 잘못된 값이 입력되는 경우는 없습니다.\n",
    "\n",
    "# 제한 사항\n",
    "# seoul은 길이 1 이상, 1000 이하인 배열입니다.\n",
    "# seoul의 원소는 길이 1 이상, 20 이하인 문자열입니다.\n",
    "# \"Kim\"은 반드시 seoul 안에 포함되어 있습니다.\n",
    "\n",
    "# 입출력 예\n",
    "# seoul\treturn\n",
    "# [\"Jane\", \"Kim\"]\t\"김서방은 1에 있다\""
   ]
  },
  {
   "cell_type": "code",
   "execution_count": null,
   "id": "df6b0a0d",
   "metadata": {},
   "outputs": [],
   "source": []
  },
  {
   "cell_type": "code",
   "execution_count": 1,
   "id": "bbacbbdf",
   "metadata": {},
   "outputs": [],
   "source": []
  },
  {
   "cell_type": "code",
   "execution_count": null,
   "id": "0807d99b",
   "metadata": {},
   "outputs": [],
   "source": []
  },
  {
   "cell_type": "code",
   "execution_count": 2,
   "id": "bccc235d",
   "metadata": {},
   "outputs": [],
   "source": [
    "def solution(seoul):\n",
    "    return f'김서방은 {seoul.index(\"Kim\")}에 있다' # index 함수는 배열에서 값의 위치를 찾아주는 함수\n",
    "                                                    # 제한사항: \"Kim\"은 반드시 seoul 안에 포함"
   ]
  },
  {
   "cell_type": "code",
   "execution_count": 9,
   "id": "d9071bfd",
   "metadata": {},
   "outputs": [
    {
     "name": "stdout",
     "output_type": "stream",
     "text": [
      "김서방은 0에 있다\n",
      "김서방은 4에 있다\n"
     ]
    }
   ],
   "source": [
    "print(solution([\"Kim\", \"Son\", \"Lee\"]))\n",
    "print(solution([\"Son\", \"Lee\",\"Kwon\", \"kin\", \"Kim\"]))"
   ]
  },
  {
   "cell_type": "code",
   "execution_count": 11,
   "id": "178990c5",
   "metadata": {},
   "outputs": [
    {
     "ename": "ValueError",
     "evalue": "'Kim' is not in list",
     "output_type": "error",
     "traceback": [
      "\u001b[1;31m---------------------------------------------------------------------------\u001b[0m",
      "\u001b[1;31mValueError\u001b[0m                                Traceback (most recent call last)",
      "\u001b[1;32m~\\AppData\\Local\\Temp/ipykernel_19420/1229720365.py\u001b[0m in \u001b[0;36m<module>\u001b[1;34m\u001b[0m\n\u001b[1;32m----> 1\u001b[1;33m \u001b[0mprint\u001b[0m\u001b[1;33m(\u001b[0m\u001b[0msolution\u001b[0m\u001b[1;33m(\u001b[0m\u001b[1;33m[\u001b[0m\u001b[1;34m\"Son\"\u001b[0m\u001b[1;33m,\u001b[0m \u001b[1;34m\"Lee\"\u001b[0m\u001b[1;33m,\u001b[0m\u001b[1;34m\"kin\"\u001b[0m\u001b[1;33m,\u001b[0m \u001b[1;34m\"Son\"\u001b[0m\u001b[1;33m,\u001b[0m \u001b[1;34m\"Lee\"\u001b[0m\u001b[1;33m]\u001b[0m\u001b[1;33m)\u001b[0m\u001b[1;33m)\u001b[0m \u001b[1;31m# Kim이 존재하지 않을때 exam문으로 예외처리 가능\u001b[0m\u001b[1;33m\u001b[0m\u001b[1;33m\u001b[0m\u001b[0m\n\u001b[0m",
      "\u001b[1;32m~\\AppData\\Local\\Temp/ipykernel_19420/3622320168.py\u001b[0m in \u001b[0;36msolution\u001b[1;34m(seoul)\u001b[0m\n\u001b[0;32m      1\u001b[0m \u001b[1;32mdef\u001b[0m \u001b[0msolution\u001b[0m\u001b[1;33m(\u001b[0m\u001b[0mseoul\u001b[0m\u001b[1;33m)\u001b[0m\u001b[1;33m:\u001b[0m\u001b[1;33m\u001b[0m\u001b[1;33m\u001b[0m\u001b[0m\n\u001b[1;32m----> 2\u001b[1;33m     \u001b[1;32mreturn\u001b[0m \u001b[1;34mf'김서방은 {seoul.index(\"Kim\")}에 있다'\u001b[0m \u001b[1;31m# index 함수는 배열에서 값의 위치를 찾아주는 함수\u001b[0m\u001b[1;33m\u001b[0m\u001b[1;33m\u001b[0m\u001b[0m\n\u001b[0m\u001b[0;32m      3\u001b[0m                                                     \u001b[1;31m# 제한사항: \"Kim\"은 반드시 seoul 안에 포함되어 있습니다.\u001b[0m\u001b[1;33m\u001b[0m\u001b[1;33m\u001b[0m\u001b[0m\n",
      "\u001b[1;31mValueError\u001b[0m: 'Kim' is not in list"
     ]
    }
   ],
   "source": [
    "print(solution([\"Son\", \"Lee\",\"kin\", \"Son\", \"Lee\"])) # Kim이 존재하지 않을때 exam문으로 예외처리 가능"
   ]
  },
  {
   "cell_type": "code",
   "execution_count": null,
   "id": "a12b85e3",
   "metadata": {},
   "outputs": [],
   "source": []
  },
  {
   "cell_type": "code",
   "execution_count": null,
   "id": "2099d6f2",
   "metadata": {},
   "outputs": [],
   "source": []
  },
  {
   "cell_type": "code",
   "execution_count": 12,
   "id": "bfaeed74",
   "metadata": {},
   "outputs": [],
   "source": [
    "# another answer"
   ]
  },
  {
   "cell_type": "code",
   "execution_count": 14,
   "id": "c231ce89",
   "metadata": {},
   "outputs": [],
   "source": [
    "def solution2(seoul):\n",
    "    for i in range(len(seoul)):\n",
    "        if seoul[i] == \"Kim\":\n",
    "            return \"김서방은 {}에 있다\".format(i)"
   ]
  },
  {
   "cell_type": "code",
   "execution_count": 15,
   "id": "25442ee3",
   "metadata": {},
   "outputs": [
    {
     "name": "stdout",
     "output_type": "stream",
     "text": [
      "김서방은 3에 있다\n"
     ]
    }
   ],
   "source": [
    "print(solution2([\"Queen\", \"Tod\", \"Queen\",\"Kim\", \"Tod\",\"Queen\", \"Tod\"]))"
   ]
  },
  {
   "cell_type": "code",
   "execution_count": null,
   "id": "ac9423e9",
   "metadata": {},
   "outputs": [],
   "source": []
  }
 ],
 "metadata": {
  "kernelspec": {
   "display_name": "Python 3 (ipykernel)",
   "language": "python",
   "name": "python3"
  },
  "language_info": {
   "codemirror_mode": {
    "name": "ipython",
    "version": 3
   },
   "file_extension": ".py",
   "mimetype": "text/x-python",
   "name": "python",
   "nbconvert_exporter": "python",
   "pygments_lexer": "ipython3",
   "version": "3.9.7"
  }
 },
 "nbformat": 4,
 "nbformat_minor": 5
}
